{
  "nbformat": 4,
  "nbformat_minor": 0,
  "metadata": {
    "colab": {
      "provenance": [],
      "authorship_tag": "ABX9TyOnO1oOw3Wc1Fq67DyPVTQT",
      "include_colab_link": true
    },
    "kernelspec": {
      "name": "python3",
      "display_name": "Python 3"
    },
    "language_info": {
      "name": "python"
    }
  },
  "cells": [
    {
      "cell_type": "markdown",
      "metadata": {
        "id": "view-in-github",
        "colab_type": "text"
      },
      "source": [
        "<a href=\"https://colab.research.google.com/github/aadarshaAB/Data-Structure-And-Algorithm/blob/master/upcomigIPO_bot.ipynb\" target=\"_parent\"><img src=\"https://colab.research.google.com/assets/colab-badge.svg\" alt=\"Open In Colab\"/></a>"
      ]
    },
    {
      "cell_type": "code",
      "execution_count": 5,
      "metadata": {
        "colab": {
          "base_uri": "https://localhost:8080/"
        },
        "id": "AI5P8Y5eldKV",
        "outputId": "fd027ee3-db84-4014-b2e7-788db2042aa8"
      },
      "outputs": [
        {
          "output_type": "stream",
          "name": "stdout",
          "text": [
            "Looking in indexes: https://pypi.org/simple, https://us-python.pkg.dev/colab-wheels/public/simple/\n",
            "Requirement already satisfied: beautifulsoup4 in /usr/local/lib/python3.10/dist-packages (4.11.2)\n",
            "Requirement already satisfied: soupsieve>1.2 in /usr/local/lib/python3.10/dist-packages (from beautifulsoup4) (2.4.1)\n"
          ]
        }
      ],
      "source": [
        "!pip install beautifulsoup4"
      ]
    },
    {
      "cell_type": "code",
      "source": [
        "import requests\n",
        "from bs4 import BeautifulSoup\n",
        "import pandas as pd\n",
        "\n",
        "# Step 1: Set the necessary required libraries.\n",
        "\n",
        "# Step 2: Grab the ipo webpage.\n",
        "upcomingIPO_url = \"https://www.sharegyannepal.com/upcoming-ipos-in-nepal/\"\n",
        "\n",
        "# Step 3: Set headers.\n",
        "headers = {\"Accept-Language\": \"en-US, en;q=0.5\"}\n",
        "\n",
        "# Step 4: Save all values to the results objects coming back from the .get on sharegyanneapal URL.\n",
        "results = requests.get(upcomingIPO_url, headers=headers)\n",
        "\n",
        "# Step 5: Parse the results object to movie_soup using the html parser.\n",
        "ipo_soup = BeautifulSoup(results.text, \"html.parser\")\n",
        "\n",
        "# Step 6: I want to extract these attributes (to a list) from the movie_soup.\n",
        "ipo_name = ''\n",
        "opening_date=''\n",
        "closing_date=''\n",
        "ipo_type=''\n",
        "row_elements=[]\n",
        "# Step 7: Create a movie_div object to find all div objects in movie_soup.\n",
        "ipo_table1 = ipo_soup.find_all('table', class_='tablepress tablepress-id-4')\n",
        "\n",
        "\n",
        "for row in ipo_table1:\n",
        "  ipo_row=row.find_all('tr')\n",
        "  for i in ipo_row:\n",
        "    row_elements.append(i.text)\n",
        "\n",
        "for row in ipo_table1:\n",
        "  ipo_row=row.find_all('tr')\n",
        "  for each_row in ipo_row:\n",
        "    data=row.find_all('td')\n",
        "    ipo_name=data[0].get_text()\n",
        "    ipo_type=data[1].get_text()\n",
        "    ipo_openingDate=data[2].get_text()\n",
        "    ipo_closingDate=data[3].get_text()\n",
        "\n",
        "print(ipo_name)\n",
        "print(ipo_type)\n",
        "print(ipo_openingDate)\n",
        "print(ipo_closingDate)\n",
        "\n"
      ],
      "metadata": {
        "id": "eTUyXhaslwuL",
        "colab": {
          "base_uri": "https://localhost:8080/"
        },
        "outputId": "475f253a-6b02-4160-89b5-50bf3e1c0bce"
      },
      "execution_count": 6,
      "outputs": [
        {
          "output_type": "stream",
          "name": "stdout",
          "text": [
            "Ghorahi Cement Industry Ltd.\n",
            "Local/Nepalese migrant workers\n",
            "Baishakh 19\n",
            "Jesth 17\n"
          ]
        }
      ]
    },
    {
      "cell_type": "code",
      "source": [
        "!pip install --upgrade python-telegram-bot\n"
      ],
      "metadata": {
        "colab": {
          "base_uri": "https://localhost:8080/"
        },
        "id": "mdoMif2szeyW",
        "outputId": "5475e9d7-f837-44a3-bf93-43466eedada0"
      },
      "execution_count": 7,
      "outputs": [
        {
          "output_type": "stream",
          "name": "stdout",
          "text": [
            "Looking in indexes: https://pypi.org/simple, https://us-python.pkg.dev/colab-wheels/public/simple/\n",
            "Collecting python-telegram-bot\n",
            "  Downloading python_telegram_bot-20.3-py3-none-any.whl (545 kB)\n",
            "\u001b[2K     \u001b[90m━━━━━━━━━━━━━━━━━━━━━━━━━━━━━━━━━━━━━━\u001b[0m \u001b[32m545.4/545.4 kB\u001b[0m \u001b[31m14.6 MB/s\u001b[0m eta \u001b[36m0:00:00\u001b[0m\n",
            "\u001b[?25hCollecting httpx~=0.24.0 (from python-telegram-bot)\n",
            "  Downloading httpx-0.24.1-py3-none-any.whl (75 kB)\n",
            "\u001b[2K     \u001b[90m━━━━━━━━━━━━━━━━━━━━━━━━━━━━━━━━━━━━━━━━\u001b[0m \u001b[32m75.4/75.4 kB\u001b[0m \u001b[31m8.4 MB/s\u001b[0m eta \u001b[36m0:00:00\u001b[0m\n",
            "\u001b[?25hRequirement already satisfied: certifi in /usr/local/lib/python3.10/dist-packages (from httpx~=0.24.0->python-telegram-bot) (2022.12.7)\n",
            "Collecting httpcore<0.18.0,>=0.15.0 (from httpx~=0.24.0->python-telegram-bot)\n",
            "  Downloading httpcore-0.17.2-py3-none-any.whl (72 kB)\n",
            "\u001b[2K     \u001b[90m━━━━━━━━━━━━━━━━━━━━━━━━━━━━━━━━━━━━━━━━\u001b[0m \u001b[32m72.5/72.5 kB\u001b[0m \u001b[31m8.1 MB/s\u001b[0m eta \u001b[36m0:00:00\u001b[0m\n",
            "\u001b[?25hRequirement already satisfied: idna in /usr/local/lib/python3.10/dist-packages (from httpx~=0.24.0->python-telegram-bot) (3.4)\n",
            "Requirement already satisfied: sniffio in /usr/local/lib/python3.10/dist-packages (from httpx~=0.24.0->python-telegram-bot) (1.3.0)\n",
            "Collecting h11<0.15,>=0.13 (from httpcore<0.18.0,>=0.15.0->httpx~=0.24.0->python-telegram-bot)\n",
            "  Downloading h11-0.14.0-py3-none-any.whl (58 kB)\n",
            "\u001b[2K     \u001b[90m━━━━━━━━━━━━━━━━━━━━━━━━━━━━━━━━━━━━━━━━\u001b[0m \u001b[32m58.3/58.3 kB\u001b[0m \u001b[31m6.7 MB/s\u001b[0m eta \u001b[36m0:00:00\u001b[0m\n",
            "\u001b[?25hRequirement already satisfied: anyio<5.0,>=3.0 in /usr/local/lib/python3.10/dist-packages (from httpcore<0.18.0,>=0.15.0->httpx~=0.24.0->python-telegram-bot) (3.6.2)\n",
            "Installing collected packages: h11, httpcore, httpx, python-telegram-bot\n",
            "Successfully installed h11-0.14.0 httpcore-0.17.2 httpx-0.24.1 python-telegram-bot-20.3\n"
          ]
        }
      ]
    },
    {
      "cell_type": "code",
      "source": [
        "#Now for telegram bot\n",
        "from typing import Final\n",
        "from telegram import Update\n",
        "from telegram .ext import Application, CommandHandler, MessageHandler, filters, ContextTypes\n",
        "\n",
        "\n",
        "Token: Final='6063225159:AAH4m0bf-wIxJRvNLMo-wQbsjgokDOePO4I'\n",
        "\n",
        "BOT_USERNAME:Final='upcomingIPO'\n",
        "\n",
        "async def start_command(update:Update,context:ContextTypes.DEFAULT_TYPES):\n",
        "  await update.messege.reply_text(\"Hello welcome\")\n",
        "\n",
        "async def help_command(update:Update,context:ContextTypes.DEFAULT_TYPES):\n",
        "  await update.messege.reply_text(\"Hello!I am a bot that tells about upcoming IPO\")\n",
        "\n",
        "  # update.message,reply-text(\"\"\"\n",
        "  #     /start->Here you can check upcoimg IPO\n",
        "  #     /ipoName->get ipo name\n",
        "  #     /ipoType->ipo type\n",
        "  #     /ipoOpeningDate->ipo opening date\n",
        "  #     /ipoClosingDate->ipo closing date\n",
        "  #     \"\"\"\n",
        "  # )\n",
        "def handle_responses(text:str)->:\n",
        "  processed:str=text.lower()\n",
        "def ipoName(update,context):\n",
        "  update.messege.reply_text(\"IPO Name= \",+ipo_name)\n",
        "def ipoType(update,context):\n",
        "  update.messege.reply_text(\"IPO Type= \",+ipo_type)\n",
        "def ipoOpeningDate(update,context):\n",
        "  update.messege.reply_text(\"IPO Opening Date= \",+ipo_openingDate)\n",
        "def ipoOpeningDate(update,context):\n",
        "  update.messege.reply_text(\"IPO Closing Date= \",+ipo_closingDate)\n",
        "\n",
        "dispatcher.add_handler(telegram.ext.CommandHandler('start',start))\n",
        "dispatcher.add_handler(telegram.ext.CommandHandler('ipoName',ipoName))\n",
        "dispatcher.add_handler(telegram.ext.CommandHandler('ipoType',ipoType))\n",
        "dispatcher.add_handler(telegram.ext.CommandHandler('ipoOpeningDate',ipoOpeningDate))\n",
        "dispatcher.add_handler(telegram.ext.CommandHandler('ipoClosingDate',ipoClosingDate))\n",
        "\n",
        "\n",
        "updater.start_polling()\n",
        "updater.idle()\n",
        "\n",
        "\n",
        "\n",
        "\n",
        "\n"
      ],
      "metadata": {
        "colab": {
          "base_uri": "https://localhost:8080/",
          "height": 130
        },
        "id": "iwIJ1Qh1zbpg",
        "outputId": "659ac708-b493-412b-fdfe-583e3eb229c0"
      },
      "execution_count": 8,
      "outputs": [
        {
          "output_type": "error",
          "ename": "SyntaxError",
          "evalue": "ignored",
          "traceback": [
            "\u001b[0;36m  File \u001b[0;32m\"<ipython-input-8-7efd48da0e1a>\"\u001b[0;36m, line \u001b[0;32m25\u001b[0m\n\u001b[0;31m    def handle_responses(text:str)->:\u001b[0m\n\u001b[0m                                  ^\u001b[0m\n\u001b[0;31mSyntaxError\u001b[0m\u001b[0;31m:\u001b[0m expected ':'\n"
          ]
        }
      ]
    }
  ]
}